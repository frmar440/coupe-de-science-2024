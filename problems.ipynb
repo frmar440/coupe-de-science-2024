{
 "cells": [
  {
   "cell_type": "markdown",
   "metadata": {},
   "source": [
    "# Défi de programmation\n",
    "\n",
    "Votre équipe d'enquêteurs a été mandatée pour enquêter sur un vol de banque. Vous avez réussi à obtenir des informations sur les transactions bancaires effectuées par les criminels avec l'argent volé. Vous devez maintenant analyser ces données pour trouver des preuves qui vous permettront de les arrêter.\n",
    "\n",
    "Cette page contient un ensemble de problèmes de programmation qui vous aideront à analyser les transactions frauduleuses. Vous devez écrire les réponses aux problèmes sur le formulaire fourni. Chaque problème réussi rapporte **x points** à votre équipe. Bonne chance!\n"
   ]
  },
  {
   "cell_type": "markdown",
   "metadata": {},
   "source": [
    "## Problème #1: intérêt simple et composé\n",
    "\n",
    "L'intérêt est l'argent que vous gagnez sur un placement (ou que vous payez sur un emprunt!). L'intérêt est souvent calculé de deux façons: simple ou composé.\n",
    "- L'intérêt simple est calculé sur le montant initial uniquement. Sa formule est donnée par:\n",
    "$$\n",
    "\\text{Intérêt simple} = p \\times r \\times t,\n",
    "$$\n",
    "où $p$ est le montant initial, $r$ est le taux d'intérêt et $t$ est le temps en années.\n",
    "- L'intérêt composé est calculé sur le montant initial et sur l'intérêt accumulé. Sa formule est donnée par:\n",
    "$$\n",
    "\\text{Intérêt composé} = p \\times \\left(1 + \\frac{r}{n}\\right)^{n \\times t} - p,\n",
    "$$\n",
    "où $p$ est le montant initial, $r$ est le taux d'intérêt, $t$ est le temps en années et $n$ est le nombre de fois que l'intérêt est composé par année.\n",
    "\n",
    "Les voleurs ont placé une partie de l'argent volé dans un compte bancaire. Vous savez que le montant initial placé dans le compte était de 10000 $, que le taux d'intérêt est de 5 % et que le temps est de 20 ans. L'intérêt est composé 4 fois par année.\n",
    "\n",
    "Vous devez compléter la fonction `calculer_interet_compose` du programme informatique ci-dessous (indices: l'opérateur de division est `/` et l'opérateur d'exponentiation est `**`). Puis, vous devez exécuter le code (en cliquant sur la flèche) pour calculer l'intérêt simple et l'intérêt composé gagnés sur ce placement. Vous constaterez l'importance de l'intérêt composé pour faire fructifier un placement.\n"
   ]
  },
  {
   "cell_type": "code",
   "execution_count": null,
   "metadata": {},
   "outputs": [],
   "source": [
    "import numpy as np\n",
    "import matplotlib.pyplot as plt\n",
    "\n",
    "def calculer_interet_simple(p, r, t):\n",
    "    interet_simple = p * r * t\n",
    "    return interet_simple\n",
    "\n",
    "def calculer_interet_compose(p, r, t, n):\n",
    "    # TODO: implémenter la fonction de l'intérêt composé\n",
    "    pass\n",
    "\n",
    "def main():\n",
    "\n",
    "    p = float(input(\"Entrez le montant principal (en $): \"))\n",
    "    r = float(input(\"Entrez le taux d'intérêt (en %): \")) / 100\n",
    "    t = int(input(\"Entrez la durée de l'investissement (en années): \"))\n",
    "    n = int(input(\"Entrez le nombre de fois que l'intérêt est composé par année: \"))\n",
    "\n",
    "    fig, ax = plt.subplots()\n",
    "\n",
    "    ts = np.arange(0, t + 1, 1)\n",
    "    interets_simples = calculer_interet_simple(p, r, ts)\n",
    "    interets_composes = calculer_interet_compose(p, r, ts, n)\n",
    "\n",
    "    ax.plot(ts, interets_simples, label=\"Intérêt simple\")\n",
    "    ax.plot(ts, interets_composes, label=\"Intérêt composé\")\n",
    "\n",
    "    ax.annotate(f\"{interets_simples[-1]:.2f} $\", (ts[-1], interets_simples[-1]), textcoords=\"offset points\", xytext=(-50, 0), ha='center', bbox=dict(boxstyle=\"round,pad=0.3\", fc=\"white\", ec=\"black\"), arrowprops=dict(arrowstyle=\"->\"))\n",
    "    ax.annotate(f\"{interets_composes[-1]:.2f} $\", (ts[-1], interets_composes[-1]), textcoords=\"offset points\", xytext=(-50, 0), ha='center', bbox=dict(boxstyle=\"round,pad=0.3\", fc=\"white\", ec=\"black\"), arrowprops=dict(arrowstyle=\"->\"))\n",
    "\n",
    "    ax.set_xlabel(\"Année\")\n",
    "    ax.set_ylabel(\"Intérêt ($)\")\n",
    "    ax.tick_params(direction='in', top=True, right=True)\n",
    "    ax.legend(frameon=False)\n",
    "\n",
    "    plt.show()\n",
    "\n",
    "main()\n"
   ]
  },
  {
   "cell_type": "markdown",
   "metadata": {},
   "source": [
    "## Problème #2: valeur future d'une série de dépôts mensuels"
   ]
  },
  {
   "cell_type": "code",
   "execution_count": null,
   "metadata": {},
   "outputs": [],
   "source": []
  },
  {
   "cell_type": "markdown",
   "metadata": {},
   "source": [
    "## Problème #3: rendement du marché boursier"
   ]
  },
  {
   "cell_type": "code",
   "execution_count": null,
   "metadata": {},
   "outputs": [],
   "source": []
  },
  {
   "cell_type": "markdown",
   "metadata": {},
   "source": [
    "## Problème #4: rendement d'un portefeuille d'actions et d'obligations"
   ]
  },
  {
   "cell_type": "code",
   "execution_count": null,
   "metadata": {},
   "outputs": [],
   "source": []
  },
  {
   "cell_type": "markdown",
   "metadata": {},
   "source": [
    "## Problème #5: déviation standard d'un portefeuille et analyse de risque"
   ]
  },
  {
   "cell_type": "code",
   "execution_count": null,
   "metadata": {},
   "outputs": [],
   "source": []
  },
  {
   "cell_type": "markdown",
   "metadata": {},
   "source": [
    "## Problème #6: optimisation de portefeuille"
   ]
  },
  {
   "cell_type": "code",
   "execution_count": null,
   "metadata": {},
   "outputs": [],
   "source": []
  },
  {
   "cell_type": "markdown",
   "metadata": {},
   "source": [
    "## Problème #7: amortissement d'un prêt"
   ]
  },
  {
   "cell_type": "code",
   "execution_count": null,
   "metadata": {},
   "outputs": [],
   "source": []
  },
  {
   "cell_type": "markdown",
   "metadata": {},
   "source": [
    "## Problème #8: valeur actuelle nette et taux de rentabilité interne"
   ]
  },
  {
   "cell_type": "code",
   "execution_count": null,
   "metadata": {},
   "outputs": [],
   "source": []
  }
 ],
 "metadata": {
  "kernelspec": {
   "display_name": "Python 3 (ipykernel)",
   "language": "python",
   "name": "python3"
  },
  "language_info": {
   "codemirror_mode": {
    "name": "ipython",
    "version": 3
   },
   "file_extension": ".py",
   "mimetype": "text/x-python",
   "name": "python",
   "nbconvert_exporter": "python",
   "pygments_lexer": "ipython3",
   "version": "3.11.3"
  }
 },
 "nbformat": 4,
 "nbformat_minor": 4
}
